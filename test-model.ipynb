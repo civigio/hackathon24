{
 "metadata": {
  "kernelspec": {
   "language": "python",
   "display_name": "Python 3",
   "name": "python3"
  },
  "language_info": {
   "name": "python",
   "version": "3.10.14",
   "mimetype": "text/x-python",
   "codemirror_mode": {
    "name": "ipython",
    "version": 3
   },
   "pygments_lexer": "ipython3",
   "nbconvert_exporter": "python",
   "file_extension": ".py"
  },
  "kaggle": {
   "accelerator": "nvidiaTeslaT4",
   "dataSources": [
    {
     "sourceId": 1183165,
     "sourceType": "datasetVersion",
     "datasetId": 672377
    }
   ],
   "dockerImageVersionId": 30762,
   "isInternetEnabled": true,
   "language": "python",
   "sourceType": "notebook",
   "isGpuEnabled": true
  }
 },
 "nbformat_minor": 4,
 "nbformat": 4,
 "cells": [
  {
   "cell_type": "code",
   "source": [
    "import numpy as np\n",
    "import pandas as pd\n",
    "import os\n",
    "import matplotlib.image as mpimg\n",
    "import matplotlib.pyplot as plt\n",
    "from tensorflow.keras.preprocessing.image import ImageDataGenerator\n",
    "from tensorflow.keras import layers\n",
    "import tensorflow.keras.models as tkm\n",
    "    \n",
    "for dirname, _, filenames in os.walk('/kaggle/input'):\n",
    "    print(len(filenames), \"-->\", dirname)"
   ],
   "metadata": {
    "_uuid": "8f2839f25d086af736a60e9eeb907d3b93b6e0e5",
    "_cell_guid": "b1076dfc-b9ad-4769-8c92-a6c4dae69d19",
    "execution": {
     "iopub.status.busy": "2024-09-03T10:24:22.015934Z",
     "iopub.execute_input": "2024-09-03T10:24:22.016332Z",
     "iopub.status.idle": "2024-09-03T10:24:22.033437Z",
     "shell.execute_reply.started": "2024-09-03T10:24:22.016293Z",
     "shell.execute_reply": "2024-09-03T10:24:22.032492Z"
    },
    "trusted": true,
    "ExecuteTime": {
     "end_time": "2024-09-03T12:21:44.115427Z",
     "start_time": "2024-09-03T12:21:35.778293Z"
    }
   },
   "execution_count": 1,
   "outputs": []
  },
  {
   "cell_type": "code",
   "source": [
    "image = mpimg.imread(\"/dataset/Training/meningioma_tumor/m (100).jpg\")\n",
    "plt.imshow(image, interpolation='nearest')\n",
    "plt.title('Image plotting test', fontweight='bold')\n",
    "plt.grid()\n",
    "plt.show()"
   ],
   "metadata": {
    "execution": {
     "iopub.status.busy": "2024-09-03T10:24:22.035285Z",
     "iopub.execute_input": "2024-09-03T10:24:22.035855Z",
     "iopub.status.idle": "2024-09-03T10:24:22.348404Z",
     "shell.execute_reply.started": "2024-09-03T10:24:22.035812Z",
     "shell.execute_reply": "2024-09-03T10:24:22.347395Z"
    },
    "trusted": true,
    "ExecuteTime": {
     "end_time": "2024-09-03T12:25:20.861845Z",
     "start_time": "2024-09-03T12:25:20.784778Z"
    }
   },
   "execution_count": 8,
   "outputs": [
    {
     "ename": "FileNotFoundError",
     "evalue": "[Errno 2] No such file or directory: '/dataset/Training/meningioma_tumor/m (100).jpg'",
     "output_type": "error",
     "traceback": [
      "\u001B[1;31m---------------------------------------------------------------------------\u001B[0m",
      "\u001B[1;31mFileNotFoundError\u001B[0m                         Traceback (most recent call last)",
      "Cell \u001B[1;32mIn[8], line 1\u001B[0m\n\u001B[1;32m----> 1\u001B[0m image \u001B[38;5;241m=\u001B[39m \u001B[43mmpimg\u001B[49m\u001B[38;5;241;43m.\u001B[39;49m\u001B[43mimread\u001B[49m\u001B[43m(\u001B[49m\u001B[38;5;124;43m\"\u001B[39;49m\u001B[38;5;124;43m/dataset/Training/meningioma_tumor/m (100).jpg\u001B[39;49m\u001B[38;5;124;43m\"\u001B[39;49m\u001B[43m)\u001B[49m\n\u001B[0;32m      2\u001B[0m plt\u001B[38;5;241m.\u001B[39mimshow(image, interpolation\u001B[38;5;241m=\u001B[39m\u001B[38;5;124m'\u001B[39m\u001B[38;5;124mnearest\u001B[39m\u001B[38;5;124m'\u001B[39m)\n\u001B[0;32m      3\u001B[0m plt\u001B[38;5;241m.\u001B[39mtitle(\u001B[38;5;124m'\u001B[39m\u001B[38;5;124mImage plotting test\u001B[39m\u001B[38;5;124m'\u001B[39m, fontweight\u001B[38;5;241m=\u001B[39m\u001B[38;5;124m'\u001B[39m\u001B[38;5;124mbold\u001B[39m\u001B[38;5;124m'\u001B[39m)\n",
      "File \u001B[1;32m~\\AppData\\Local\\Packages\\PythonSoftwareFoundation.Python.3.11_qbz5n2kfra8p0\\LocalCache\\local-packages\\Python311\\site-packages\\matplotlib\\image.py:1541\u001B[0m, in \u001B[0;36mimread\u001B[1;34m(fname, format)\u001B[0m\n\u001B[0;32m   1534\u001B[0m \u001B[38;5;28;01mif\u001B[39;00m \u001B[38;5;28misinstance\u001B[39m(fname, \u001B[38;5;28mstr\u001B[39m) \u001B[38;5;129;01mand\u001B[39;00m \u001B[38;5;28mlen\u001B[39m(parse\u001B[38;5;241m.\u001B[39murlparse(fname)\u001B[38;5;241m.\u001B[39mscheme) \u001B[38;5;241m>\u001B[39m \u001B[38;5;241m1\u001B[39m:\n\u001B[0;32m   1535\u001B[0m     \u001B[38;5;66;03m# Pillow doesn't handle URLs directly.\u001B[39;00m\n\u001B[0;32m   1536\u001B[0m     \u001B[38;5;28;01mraise\u001B[39;00m \u001B[38;5;167;01mValueError\u001B[39;00m(\n\u001B[0;32m   1537\u001B[0m         \u001B[38;5;124m\"\u001B[39m\u001B[38;5;124mPlease open the URL for reading and pass the \u001B[39m\u001B[38;5;124m\"\u001B[39m\n\u001B[0;32m   1538\u001B[0m         \u001B[38;5;124m\"\u001B[39m\u001B[38;5;124mresult to Pillow, e.g. with \u001B[39m\u001B[38;5;124m\"\u001B[39m\n\u001B[0;32m   1539\u001B[0m         \u001B[38;5;124m\"\u001B[39m\u001B[38;5;124m``np.array(PIL.Image.open(urllib.request.urlopen(url)))``.\u001B[39m\u001B[38;5;124m\"\u001B[39m\n\u001B[0;32m   1540\u001B[0m         )\n\u001B[1;32m-> 1541\u001B[0m \u001B[38;5;28;01mwith\u001B[39;00m \u001B[43mimg_open\u001B[49m\u001B[43m(\u001B[49m\u001B[43mfname\u001B[49m\u001B[43m)\u001B[49m \u001B[38;5;28;01mas\u001B[39;00m image:\n\u001B[0;32m   1542\u001B[0m     \u001B[38;5;28;01mreturn\u001B[39;00m (_pil_png_to_float_array(image)\n\u001B[0;32m   1543\u001B[0m             \u001B[38;5;28;01mif\u001B[39;00m \u001B[38;5;28misinstance\u001B[39m(image, PIL\u001B[38;5;241m.\u001B[39mPngImagePlugin\u001B[38;5;241m.\u001B[39mPngImageFile) \u001B[38;5;28;01melse\u001B[39;00m\n\u001B[0;32m   1544\u001B[0m             pil_to_array(image))\n",
      "File \u001B[1;32m~\\AppData\\Local\\Packages\\PythonSoftwareFoundation.Python.3.11_qbz5n2kfra8p0\\LocalCache\\local-packages\\Python311\\site-packages\\PIL\\Image.py:3227\u001B[0m, in \u001B[0;36mopen\u001B[1;34m(fp, mode, formats)\u001B[0m\n\u001B[0;32m   3224\u001B[0m     filename \u001B[38;5;241m=\u001B[39m fp\n\u001B[0;32m   3226\u001B[0m \u001B[38;5;28;01mif\u001B[39;00m filename:\n\u001B[1;32m-> 3227\u001B[0m     fp \u001B[38;5;241m=\u001B[39m \u001B[43mbuiltins\u001B[49m\u001B[38;5;241;43m.\u001B[39;49m\u001B[43mopen\u001B[49m\u001B[43m(\u001B[49m\u001B[43mfilename\u001B[49m\u001B[43m,\u001B[49m\u001B[43m \u001B[49m\u001B[38;5;124;43m\"\u001B[39;49m\u001B[38;5;124;43mrb\u001B[39;49m\u001B[38;5;124;43m\"\u001B[39;49m\u001B[43m)\u001B[49m\n\u001B[0;32m   3228\u001B[0m     exclusive_fp \u001B[38;5;241m=\u001B[39m \u001B[38;5;28;01mTrue\u001B[39;00m\n\u001B[0;32m   3230\u001B[0m \u001B[38;5;28;01mtry\u001B[39;00m:\n",
      "\u001B[1;31mFileNotFoundError\u001B[0m: [Errno 2] No such file or directory: '/dataset/Training/meningioma_tumor/m (100).jpg'"
     ]
    }
   ]
  },
  {
   "cell_type": "code",
   "source": [
    "train_datagen = ImageDataGenerator(rescale = 1.0/255.,\n",
    "                                   validation_split = 0.2)\n",
    "\n",
    "test_datagen = ImageDataGenerator(rescale = 1.0/255.)"
   ],
   "metadata": {
    "execution": {
     "iopub.status.busy": "2024-09-03T10:24:22.350286Z",
     "iopub.execute_input": "2024-09-03T10:24:22.350607Z",
     "iopub.status.idle": "2024-09-03T10:24:22.355489Z",
     "shell.execute_reply.started": "2024-09-03T10:24:22.350572Z",
     "shell.execute_reply": "2024-09-03T10:24:22.354573Z"
    },
    "trusted": true,
    "ExecuteTime": {
     "end_time": "2024-09-03T12:21:47.255322Z",
     "start_time": "2024-09-03T12:21:47.255322Z"
    }
   },
   "execution_count": null,
   "outputs": []
  },
  {
   "cell_type": "code",
   "source": [
    "base_dir = \"/kaggle/input/brain-tumor-classification-mri\"\n",
    "train_dir = \"Training\"\n",
    "train_dir = os.path.join(base_dir, train_dir)\n",
    "\n",
    "test_dir = \"Testing\"\n",
    "test_dir = os.path.join(base_dir, test_dir)"
   ],
   "metadata": {
    "execution": {
     "iopub.status.busy": "2024-09-03T10:24:22.356471Z",
     "iopub.execute_input": "2024-09-03T10:24:22.356782Z",
     "iopub.status.idle": "2024-09-03T10:24:22.365100Z",
     "shell.execute_reply.started": "2024-09-03T10:24:22.356749Z",
     "shell.execute_reply": "2024-09-03T10:24:22.364236Z"
    },
    "trusted": true,
    "ExecuteTime": {
     "start_time": "2024-09-03T12:21:47.255322Z"
    }
   },
   "execution_count": null,
   "outputs": []
  },
  {
   "cell_type": "code",
   "source": [
    "# Flow training images in batches of 20 using train_datagen generator\n",
    "train_generator = train_datagen.flow_from_directory(train_dir, \n",
    "                                                    batch_size = 20, \n",
    "                                                    class_mode = 'sparse', \n",
    "                                                    target_size = (224, 224), \n",
    "                                                    shuffle = True,\n",
    "                                                    subset=\"training\")\n",
    "\n",
    "validation_generator = train_datagen.flow_from_directory(train_dir, \n",
    "                                                         batch_size = 20, \n",
    "                                                         class_mode = 'sparse', \n",
    "                                                         target_size = (224, 224), \n",
    "                                                         shuffle = True,\n",
    "                                                         subset=\"validation\")"
   ],
   "metadata": {
    "execution": {
     "iopub.status.busy": "2024-09-03T10:24:22.367000Z",
     "iopub.execute_input": "2024-09-03T10:24:22.367367Z",
     "iopub.status.idle": "2024-09-03T10:24:22.503175Z",
     "shell.execute_reply.started": "2024-09-03T10:24:22.367315Z",
     "shell.execute_reply": "2024-09-03T10:24:22.502445Z"
    },
    "trusted": true,
    "ExecuteTime": {
     "start_time": "2024-09-03T12:21:47.255322Z"
    }
   },
   "execution_count": null,
   "outputs": []
  },
  {
   "cell_type": "code",
   "source": [
    "# Flow validation images in batches of 20 using test_datagen generator\n",
    "test_generator = test_datagen.flow_from_directory(test_dir,  \n",
    "                                                  batch_size = 20, \n",
    "                                                  class_mode = 'sparse', \n",
    "                                                  target_size = (224, 224))"
   ],
   "metadata": {
    "execution": {
     "iopub.status.busy": "2024-09-03T10:24:22.504236Z",
     "iopub.execute_input": "2024-09-03T10:24:22.504511Z",
     "iopub.status.idle": "2024-09-03T10:24:22.528912Z",
     "shell.execute_reply.started": "2024-09-03T10:24:22.504481Z",
     "shell.execute_reply": "2024-09-03T10:24:22.528218Z"
    },
    "trusted": true,
    "ExecuteTime": {
     "start_time": "2024-09-03T12:21:47.255322Z"
    }
   },
   "execution_count": null,
   "outputs": []
  },
  {
   "cell_type": "code",
   "source": [
    "from keras.applications.vgg16 import VGG16\n",
    "\n",
    "vgg16 = VGG16(weights='imagenet', \n",
    "              input_shape=(224, 224, 3),\n",
    "              #classes=self.classes, \n",
    "              include_top=False)\n",
    "\n",
    "for layer in vgg16.layers:\n",
    "            layer.trainable = False\n",
    "        \n",
    "vgg16.summary()"
   ],
   "metadata": {
    "execution": {
     "iopub.status.busy": "2024-09-03T10:24:22.529930Z",
     "iopub.execute_input": "2024-09-03T10:24:22.530239Z",
     "iopub.status.idle": "2024-09-03T10:24:22.800834Z",
     "shell.execute_reply.started": "2024-09-03T10:24:22.530208Z",
     "shell.execute_reply": "2024-09-03T10:24:22.799911Z"
    },
    "trusted": true
   },
   "execution_count": null,
   "outputs": []
  },
  {
   "cell_type": "code",
   "source": [
    "x = layers.Flatten()(vgg16.output)\n",
    "\n",
    "x = layers.Dense(512, activation='relu')(x)\n",
    "\n",
    "x = layers.Dropout(0.5)(x)\n",
    "\n",
    "x = layers.Dense(4, activation='softmax')(x)\n",
    "\n",
    "model = tkm.Model(vgg16.input, x)\n",
    "\n",
    "model.summary()"
   ],
   "metadata": {
    "execution": {
     "iopub.status.busy": "2024-09-03T10:26:46.513404Z",
     "iopub.execute_input": "2024-09-03T10:26:46.513697Z",
     "iopub.status.idle": "2024-09-03T10:26:46.574525Z",
     "shell.execute_reply.started": "2024-09-03T10:26:46.513666Z",
     "shell.execute_reply": "2024-09-03T10:26:46.573585Z"
    },
    "trusted": true,
    "ExecuteTime": {
     "start_time": "2024-09-03T12:21:47.271258Z"
    }
   },
   "execution_count": null,
   "outputs": []
  },
  {
   "cell_type": "code",
   "source": [
    "import tensorflow.keras.optimizers as tko\n",
    "\n",
    "model.compile(optimizer = tko.RMSprop(learning_rate=0.0001), loss = 'crossentropy', metrics = ['acc'])\n",
    "model.summary()\n",
    "\n",
    "#vgghist = model.fit(train_generator, validation_data = validation_generator, steps_per_epoch = 100, epochs = 10)\n",
    "vgghist = model.fit(train_generator, validation_data = validation_generator, epochs = 10)"
   ],
   "metadata": {
    "execution": {
     "iopub.status.busy": "2024-09-03T10:41:44.065883Z",
     "iopub.execute_input": "2024-09-03T10:41:44.066637Z",
     "iopub.status.idle": "2024-09-03T10:45:00.585529Z",
     "shell.execute_reply.started": "2024-09-03T10:41:44.066594Z",
     "shell.execute_reply": "2024-09-03T10:45:00.584733Z"
    },
    "trusted": true,
    "ExecuteTime": {
     "start_time": "2024-09-03T12:21:47.271258Z"
    }
   },
   "execution_count": null,
   "outputs": []
  },
  {
   "cell_type": "code",
   "outputs": [],
   "source": [],
   "metadata": {
    "collapsed": false,
    "ExecuteTime": {
     "start_time": "2024-09-03T12:21:47.271258Z"
    }
   }
  }
 ]
}
