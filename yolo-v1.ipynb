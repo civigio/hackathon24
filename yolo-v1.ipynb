{
 "metadata": {
  "kernelspec": {
   "language": "python",
   "display_name": "Python 3",
   "name": "python3"
  },
  "language_info": {
   "name": "python",
   "version": "3.10.14",
   "mimetype": "text/x-python",
   "codemirror_mode": {
    "name": "ipython",
    "version": 3
   },
   "pygments_lexer": "ipython3",
   "nbconvert_exporter": "python",
   "file_extension": ".py"
  },
  "kaggle": {
   "accelerator": "nvidiaTeslaT4",
   "dataSources": [
    {
     "sourceId": 2645886,
     "sourceType": "datasetVersion",
     "datasetId": 1608934
    }
   ],
   "dockerImageVersionId": 30762,
   "isInternetEnabled": true,
   "language": "python",
   "sourceType": "notebook",
   "isGpuEnabled": true
  }
 },
 "nbformat_minor": 4,
 "nbformat": 4,
 "cells": [
  {
   "cell_type": "code",
   "source": [
    "import numpy as np\n",
    "import pandas as pd\n",
    "import os\n",
    "import cv2\n",
    "import matplotlib.image as mpimg\n",
    "import matplotlib.pyplot as plt"
   ],
   "metadata": {
    "_uuid": "8f2839f25d086af736a60e9eeb907d3b93b6e0e5",
    "_cell_guid": "b1076dfc-b9ad-4769-8c92-a6c4dae69d19",
    "execution": {
     "iopub.status.busy": "2024-09-04T15:26:49.291363Z",
     "iopub.execute_input": "2024-09-04T15:26:49.291788Z",
     "iopub.status.idle": "2024-09-04T15:26:49.847612Z",
     "shell.execute_reply.started": "2024-09-04T15:26:49.291736Z",
     "shell.execute_reply": "2024-09-04T15:26:49.846642Z"
    },
    "trusted": true,
    "ExecuteTime": {
     "end_time": "2024-09-05T14:14:02.873036Z",
     "start_time": "2024-09-05T14:14:01.898685Z"
    }
   },
   "execution_count": 1,
   "outputs": []
  },
  {
   "cell_type": "code",
   "source": [
    "base_dir = \"data\"\n",
    "train_dir = \"train\"\n",
    "train_dir = os.path.join(base_dir, train_dir)\n",
    "\n",
    "test_dir = \"test\"\n",
    "test_dir = os.path.join(base_dir, test_dir)\n",
    "\n",
    "valid_dir = \"valid\"\n",
    "valid_dir = os.path.join(base_dir, valid_dir)"
   ],
   "metadata": {
    "execution": {
     "iopub.status.busy": "2024-09-04T15:26:51.960513Z",
     "iopub.execute_input": "2024-09-04T15:26:51.961587Z",
     "iopub.status.idle": "2024-09-04T15:26:51.968122Z",
     "shell.execute_reply.started": "2024-09-04T15:26:51.961525Z",
     "shell.execute_reply": "2024-09-04T15:26:51.967080Z"
    },
    "trusted": true,
    "ExecuteTime": {
     "end_time": "2024-09-05T14:14:04.765679Z",
     "start_time": "2024-09-05T14:14:04.759288Z"
    }
   },
   "execution_count": 2,
   "outputs": []
  },
  {
   "cell_type": "code",
   "source": [
    "from ultralytics import YOLO\n",
    "\n",
    "model = YOLO('yolov8m-cls.pt')\n",
    "#watchout! Test and Val data are the same! Need to change it\n",
    "\n",
    "# train/pre-tuned the model on our dataset\n",
    "model.train(data=\"\\datasets\\cc.yaml\", epochs=10)"
   ],
   "metadata": {
    "execution": {
     "iopub.status.busy": "2024-09-04T15:27:29.946935Z",
     "iopub.execute_input": "2024-09-04T15:27:29.947337Z",
     "iopub.status.idle": "2024-09-04T15:31:24.462918Z",
     "shell.execute_reply.started": "2024-09-04T15:27:29.947291Z",
     "shell.execute_reply": "2024-09-04T15:31:24.461899Z"
    },
    "trusted": true,
    "ExecuteTime": {
     "end_time": "2024-09-05T14:27:54.780244Z",
     "start_time": "2024-09-05T14:27:51.170436Z"
    }
   },
   "execution_count": 13,
   "outputs": [
    {
     "name": "stdout",
     "output_type": "stream",
     "text": [
      "Ultralytics YOLOv8.2.87  Python-3.11.9 torch-2.3.1+cpu CPU (Intel Core(TM) i7-10510U 1.80GHz)\n",
      "\u001B[34m\u001B[1mengine\\trainer: \u001B[0mtask=classify, mode=train, model=yolov8m-cls.pt, data=\\datasets\\cc.yaml, epochs=10, time=None, patience=100, batch=16, imgsz=224, save=True, save_period=-1, cache=False, device=None, workers=8, project=None, name=train13, exist_ok=False, pretrained=True, optimizer=auto, verbose=True, seed=0, deterministic=True, single_cls=False, rect=False, cos_lr=False, close_mosaic=10, resume=False, amp=True, fraction=1.0, profile=False, freeze=None, multi_scale=False, overlap_mask=True, mask_ratio=4, dropout=0.0, val=True, split=val, save_json=False, save_hybrid=False, conf=None, iou=0.7, max_det=300, half=False, dnn=False, plots=True, source=None, vid_stride=1, stream_buffer=False, visualize=False, augment=False, agnostic_nms=False, classes=None, retina_masks=False, embed=None, show=False, save_frames=False, save_txt=False, save_conf=False, save_crop=False, show_labels=True, show_conf=True, show_boxes=True, line_width=None, format=torchscript, keras=False, optimize=False, int8=False, dynamic=False, simplify=False, opset=None, workspace=4, nms=False, lr0=0.01, lrf=0.01, momentum=0.937, weight_decay=0.0005, warmup_epochs=3.0, warmup_momentum=0.8, warmup_bias_lr=0.1, box=7.5, cls=0.5, dfl=1.5, pose=12.0, kobj=1.0, label_smoothing=0.0, nbs=64, hsv_h=0.015, hsv_s=0.7, hsv_v=0.4, degrees=0.0, translate=0.1, scale=0.5, shear=0.0, perspective=0.0, flipud=0.0, fliplr=0.5, bgr=0.0, mosaic=1.0, mixup=0.0, copy_paste=0.0, auto_augment=randaugment, erasing=0.4, crop_fraction=1.0, cfg=None, tracker=botsort.yaml, save_dir=runs\\classify\\train13\n",
      "\n",
      "Dataset not found , missing path C:\\datasets\\cc.yaml, attempting download...\n",
      "Downloading https://ultralytics.com/assets/datasets/cc.yaml.zip to 'C:\\datasets\\cc.yaml.zip'...\n",
      " Download failure, retrying 1/3 https://ultralytics.com/assets/datasets/cc.yaml.zip...\n",
      "Dataset download success  (1.2s), saved to \u001B[1mC:\\datasets\\cc.yaml\u001B[0m\n"
     ]
    },
    {
     "ename": "RuntimeError",
     "evalue": "Dataset '/datasets/cc.yaml' error  [WinError 3] Impossibile trovare il percorso specificato: 'C:\\\\datasets\\\\cc.yaml\\\\train'",
     "output_type": "error",
     "traceback": [
      "\u001B[1;31m---------------------------------------------------------------------------\u001B[0m",
      "\u001B[1;31mFileNotFoundError\u001B[0m                         Traceback (most recent call last)",
      "File \u001B[1;32m~\\AppData\\Local\\Packages\\PythonSoftwareFoundation.Python.3.11_qbz5n2kfra8p0\\LocalCache\\local-packages\\Python311\\site-packages\\ultralytics\\engine\\trainer.py:528\u001B[0m, in \u001B[0;36mBaseTrainer.get_dataset\u001B[1;34m(self)\u001B[0m\n\u001B[0;32m    527\u001B[0m \u001B[38;5;28;01mif\u001B[39;00m \u001B[38;5;28mself\u001B[39m\u001B[38;5;241m.\u001B[39margs\u001B[38;5;241m.\u001B[39mtask \u001B[38;5;241m==\u001B[39m \u001B[38;5;124m\"\u001B[39m\u001B[38;5;124mclassify\u001B[39m\u001B[38;5;124m\"\u001B[39m:\n\u001B[1;32m--> 528\u001B[0m     data \u001B[38;5;241m=\u001B[39m \u001B[43mcheck_cls_dataset\u001B[49m\u001B[43m(\u001B[49m\u001B[38;5;28;43mself\u001B[39;49m\u001B[38;5;241;43m.\u001B[39;49m\u001B[43margs\u001B[49m\u001B[38;5;241;43m.\u001B[39;49m\u001B[43mdata\u001B[49m\u001B[43m)\u001B[49m\n\u001B[0;32m    529\u001B[0m \u001B[38;5;28;01melif\u001B[39;00m \u001B[38;5;28mself\u001B[39m\u001B[38;5;241m.\u001B[39margs\u001B[38;5;241m.\u001B[39mdata\u001B[38;5;241m.\u001B[39msplit(\u001B[38;5;124m\"\u001B[39m\u001B[38;5;124m.\u001B[39m\u001B[38;5;124m\"\u001B[39m)[\u001B[38;5;241m-\u001B[39m\u001B[38;5;241m1\u001B[39m] \u001B[38;5;129;01min\u001B[39;00m {\u001B[38;5;124m\"\u001B[39m\u001B[38;5;124myaml\u001B[39m\u001B[38;5;124m\"\u001B[39m, \u001B[38;5;124m\"\u001B[39m\u001B[38;5;124myml\u001B[39m\u001B[38;5;124m\"\u001B[39m} \u001B[38;5;129;01mor\u001B[39;00m \u001B[38;5;28mself\u001B[39m\u001B[38;5;241m.\u001B[39margs\u001B[38;5;241m.\u001B[39mtask \u001B[38;5;129;01min\u001B[39;00m {\n\u001B[0;32m    530\u001B[0m     \u001B[38;5;124m\"\u001B[39m\u001B[38;5;124mdetect\u001B[39m\u001B[38;5;124m\"\u001B[39m,\n\u001B[0;32m    531\u001B[0m     \u001B[38;5;124m\"\u001B[39m\u001B[38;5;124msegment\u001B[39m\u001B[38;5;124m\"\u001B[39m,\n\u001B[0;32m    532\u001B[0m     \u001B[38;5;124m\"\u001B[39m\u001B[38;5;124mpose\u001B[39m\u001B[38;5;124m\"\u001B[39m,\n\u001B[0;32m    533\u001B[0m     \u001B[38;5;124m\"\u001B[39m\u001B[38;5;124mobb\u001B[39m\u001B[38;5;124m\"\u001B[39m,\n\u001B[0;32m    534\u001B[0m }:\n",
      "File \u001B[1;32m~\\AppData\\Local\\Packages\\PythonSoftwareFoundation.Python.3.11_qbz5n2kfra8p0\\LocalCache\\local-packages\\Python311\\site-packages\\ultralytics\\data\\utils.py:399\u001B[0m, in \u001B[0;36mcheck_cls_dataset\u001B[1;34m(dataset, split)\u001B[0m\n\u001B[0;32m    398\u001B[0m nc \u001B[38;5;241m=\u001B[39m \u001B[38;5;28mlen\u001B[39m([x \u001B[38;5;28;01mfor\u001B[39;00m x \u001B[38;5;129;01min\u001B[39;00m (data_dir \u001B[38;5;241m/\u001B[39m \u001B[38;5;124m\"\u001B[39m\u001B[38;5;124mtrain\u001B[39m\u001B[38;5;124m\"\u001B[39m)\u001B[38;5;241m.\u001B[39mglob(\u001B[38;5;124m\"\u001B[39m\u001B[38;5;124m*\u001B[39m\u001B[38;5;124m\"\u001B[39m) \u001B[38;5;28;01mif\u001B[39;00m x\u001B[38;5;241m.\u001B[39mis_dir()])  \u001B[38;5;66;03m# number of classes\u001B[39;00m\n\u001B[1;32m--> 399\u001B[0m names \u001B[38;5;241m=\u001B[39m \u001B[43m[\u001B[49m\u001B[43mx\u001B[49m\u001B[38;5;241;43m.\u001B[39;49m\u001B[43mname\u001B[49m\u001B[43m \u001B[49m\u001B[38;5;28;43;01mfor\u001B[39;49;00m\u001B[43m \u001B[49m\u001B[43mx\u001B[49m\u001B[43m \u001B[49m\u001B[38;5;129;43;01min\u001B[39;49;00m\u001B[43m \u001B[49m\u001B[43m(\u001B[49m\u001B[43mdata_dir\u001B[49m\u001B[43m \u001B[49m\u001B[38;5;241;43m/\u001B[39;49m\u001B[43m \u001B[49m\u001B[38;5;124;43m\"\u001B[39;49m\u001B[38;5;124;43mtrain\u001B[39;49m\u001B[38;5;124;43m\"\u001B[39;49m\u001B[43m)\u001B[49m\u001B[38;5;241;43m.\u001B[39;49m\u001B[43miterdir\u001B[49m\u001B[43m(\u001B[49m\u001B[43m)\u001B[49m\u001B[43m \u001B[49m\u001B[38;5;28;43;01mif\u001B[39;49;00m\u001B[43m \u001B[49m\u001B[43mx\u001B[49m\u001B[38;5;241;43m.\u001B[39;49m\u001B[43mis_dir\u001B[49m\u001B[43m(\u001B[49m\u001B[43m)\u001B[49m\u001B[43m]\u001B[49m  \u001B[38;5;66;03m# class names list\u001B[39;00m\n\u001B[0;32m    400\u001B[0m names \u001B[38;5;241m=\u001B[39m \u001B[38;5;28mdict\u001B[39m(\u001B[38;5;28menumerate\u001B[39m(\u001B[38;5;28msorted\u001B[39m(names)))\n",
      "File \u001B[1;32m~\\AppData\\Local\\Packages\\PythonSoftwareFoundation.Python.3.11_qbz5n2kfra8p0\\LocalCache\\local-packages\\Python311\\site-packages\\ultralytics\\data\\utils.py:399\u001B[0m, in \u001B[0;36m<listcomp>\u001B[1;34m(.0)\u001B[0m\n\u001B[0;32m    398\u001B[0m nc \u001B[38;5;241m=\u001B[39m \u001B[38;5;28mlen\u001B[39m([x \u001B[38;5;28;01mfor\u001B[39;00m x \u001B[38;5;129;01min\u001B[39;00m (data_dir \u001B[38;5;241m/\u001B[39m \u001B[38;5;124m\"\u001B[39m\u001B[38;5;124mtrain\u001B[39m\u001B[38;5;124m\"\u001B[39m)\u001B[38;5;241m.\u001B[39mglob(\u001B[38;5;124m\"\u001B[39m\u001B[38;5;124m*\u001B[39m\u001B[38;5;124m\"\u001B[39m) \u001B[38;5;28;01mif\u001B[39;00m x\u001B[38;5;241m.\u001B[39mis_dir()])  \u001B[38;5;66;03m# number of classes\u001B[39;00m\n\u001B[1;32m--> 399\u001B[0m names \u001B[38;5;241m=\u001B[39m [x\u001B[38;5;241m.\u001B[39mname \u001B[38;5;28;01mfor\u001B[39;00m x \u001B[38;5;129;01min\u001B[39;00m (data_dir \u001B[38;5;241m/\u001B[39m \u001B[38;5;124m\"\u001B[39m\u001B[38;5;124mtrain\u001B[39m\u001B[38;5;124m\"\u001B[39m)\u001B[38;5;241m.\u001B[39miterdir() \u001B[38;5;28;01mif\u001B[39;00m x\u001B[38;5;241m.\u001B[39mis_dir()]  \u001B[38;5;66;03m# class names list\u001B[39;00m\n\u001B[0;32m    400\u001B[0m names \u001B[38;5;241m=\u001B[39m \u001B[38;5;28mdict\u001B[39m(\u001B[38;5;28menumerate\u001B[39m(\u001B[38;5;28msorted\u001B[39m(names)))\n",
      "File \u001B[1;32mC:\\Program Files\\WindowsApps\\PythonSoftwareFoundation.Python.3.11_3.11.2544.0_x64__qbz5n2kfra8p0\\Lib\\pathlib.py:931\u001B[0m, in \u001B[0;36mPath.iterdir\u001B[1;34m(self)\u001B[0m\n\u001B[0;32m    928\u001B[0m \u001B[38;5;250m\u001B[39m\u001B[38;5;124;03m\"\"\"Iterate over the files in this directory.  Does not yield any\u001B[39;00m\n\u001B[0;32m    929\u001B[0m \u001B[38;5;124;03mresult for the special paths '.' and '..'.\u001B[39;00m\n\u001B[0;32m    930\u001B[0m \u001B[38;5;124;03m\"\"\"\u001B[39;00m\n\u001B[1;32m--> 931\u001B[0m \u001B[38;5;28;01mfor\u001B[39;00m name \u001B[38;5;129;01min\u001B[39;00m os\u001B[38;5;241m.\u001B[39mlistdir(\u001B[38;5;28mself\u001B[39m):\n\u001B[0;32m    932\u001B[0m     \u001B[38;5;28;01myield\u001B[39;00m \u001B[38;5;28mself\u001B[39m\u001B[38;5;241m.\u001B[39m_make_child_relpath(name)\n",
      "\u001B[1;31mFileNotFoundError\u001B[0m: [WinError 3] Impossibile trovare il percorso specificato: 'C:\\\\datasets\\\\cc.yaml\\\\train'",
      "\nThe above exception was the direct cause of the following exception:\n",
      "\u001B[1;31mRuntimeError\u001B[0m                              Traceback (most recent call last)",
      "Cell \u001B[1;32mIn[13], line 7\u001B[0m\n\u001B[0;32m      3\u001B[0m model \u001B[38;5;241m=\u001B[39m YOLO(\u001B[38;5;124m'\u001B[39m\u001B[38;5;124myolov8m-cls.pt\u001B[39m\u001B[38;5;124m'\u001B[39m)\n\u001B[0;32m      4\u001B[0m \u001B[38;5;66;03m#watchout! Test and Val data are the same! Need to change it\u001B[39;00m\n\u001B[0;32m      5\u001B[0m \n\u001B[0;32m      6\u001B[0m \u001B[38;5;66;03m# train/pre-tuned the model on our dataset\u001B[39;00m\n\u001B[1;32m----> 7\u001B[0m \u001B[43mmodel\u001B[49m\u001B[38;5;241;43m.\u001B[39;49m\u001B[43mtrain\u001B[49m\u001B[43m(\u001B[49m\u001B[43mdata\u001B[49m\u001B[38;5;241;43m=\u001B[39;49m\u001B[38;5;124;43m\"\u001B[39;49m\u001B[38;5;124;43m\\\u001B[39;49m\u001B[38;5;124;43mdatasets\u001B[39;49m\u001B[38;5;124;43m\\\u001B[39;49m\u001B[38;5;124;43mcc.yaml\u001B[39;49m\u001B[38;5;124;43m\"\u001B[39;49m\u001B[43m,\u001B[49m\u001B[43m \u001B[49m\u001B[43mepochs\u001B[49m\u001B[38;5;241;43m=\u001B[39;49m\u001B[38;5;241;43m10\u001B[39;49m\u001B[43m)\u001B[49m\n",
      "File \u001B[1;32m~\\AppData\\Local\\Packages\\PythonSoftwareFoundation.Python.3.11_qbz5n2kfra8p0\\LocalCache\\local-packages\\Python311\\site-packages\\ultralytics\\engine\\model.py:809\u001B[0m, in \u001B[0;36mModel.train\u001B[1;34m(self, trainer, **kwargs)\u001B[0m\n\u001B[0;32m    806\u001B[0m \u001B[38;5;28;01mif\u001B[39;00m args\u001B[38;5;241m.\u001B[39mget(\u001B[38;5;124m\"\u001B[39m\u001B[38;5;124mresume\u001B[39m\u001B[38;5;124m\"\u001B[39m):\n\u001B[0;32m    807\u001B[0m     args[\u001B[38;5;124m\"\u001B[39m\u001B[38;5;124mresume\u001B[39m\u001B[38;5;124m\"\u001B[39m] \u001B[38;5;241m=\u001B[39m \u001B[38;5;28mself\u001B[39m\u001B[38;5;241m.\u001B[39mckpt_path\n\u001B[1;32m--> 809\u001B[0m \u001B[38;5;28mself\u001B[39m\u001B[38;5;241m.\u001B[39mtrainer \u001B[38;5;241m=\u001B[39m \u001B[43m(\u001B[49m\u001B[43mtrainer\u001B[49m\u001B[43m \u001B[49m\u001B[38;5;129;43;01mor\u001B[39;49;00m\u001B[43m \u001B[49m\u001B[38;5;28;43mself\u001B[39;49m\u001B[38;5;241;43m.\u001B[39;49m\u001B[43m_smart_load\u001B[49m\u001B[43m(\u001B[49m\u001B[38;5;124;43m\"\u001B[39;49m\u001B[38;5;124;43mtrainer\u001B[39;49m\u001B[38;5;124;43m\"\u001B[39;49m\u001B[43m)\u001B[49m\u001B[43m)\u001B[49m\u001B[43m(\u001B[49m\u001B[43moverrides\u001B[49m\u001B[38;5;241;43m=\u001B[39;49m\u001B[43margs\u001B[49m\u001B[43m,\u001B[49m\u001B[43m \u001B[49m\u001B[43m_callbacks\u001B[49m\u001B[38;5;241;43m=\u001B[39;49m\u001B[38;5;28;43mself\u001B[39;49m\u001B[38;5;241;43m.\u001B[39;49m\u001B[43mcallbacks\u001B[49m\u001B[43m)\u001B[49m\n\u001B[0;32m    810\u001B[0m \u001B[38;5;28;01mif\u001B[39;00m \u001B[38;5;129;01mnot\u001B[39;00m args\u001B[38;5;241m.\u001B[39mget(\u001B[38;5;124m\"\u001B[39m\u001B[38;5;124mresume\u001B[39m\u001B[38;5;124m\"\u001B[39m):  \u001B[38;5;66;03m# manually set model only if not resuming\u001B[39;00m\n\u001B[0;32m    811\u001B[0m     \u001B[38;5;28mself\u001B[39m\u001B[38;5;241m.\u001B[39mtrainer\u001B[38;5;241m.\u001B[39mmodel \u001B[38;5;241m=\u001B[39m \u001B[38;5;28mself\u001B[39m\u001B[38;5;241m.\u001B[39mtrainer\u001B[38;5;241m.\u001B[39mget_model(weights\u001B[38;5;241m=\u001B[39m\u001B[38;5;28mself\u001B[39m\u001B[38;5;241m.\u001B[39mmodel \u001B[38;5;28;01mif\u001B[39;00m \u001B[38;5;28mself\u001B[39m\u001B[38;5;241m.\u001B[39mckpt \u001B[38;5;28;01melse\u001B[39;00m \u001B[38;5;28;01mNone\u001B[39;00m, cfg\u001B[38;5;241m=\u001B[39m\u001B[38;5;28mself\u001B[39m\u001B[38;5;241m.\u001B[39mmodel\u001B[38;5;241m.\u001B[39myaml)\n",
      "File \u001B[1;32m~\\AppData\\Local\\Packages\\PythonSoftwareFoundation.Python.3.11_qbz5n2kfra8p0\\LocalCache\\local-packages\\Python311\\site-packages\\ultralytics\\models\\yolo\\classify\\train.py:38\u001B[0m, in \u001B[0;36mClassificationTrainer.__init__\u001B[1;34m(self, cfg, overrides, _callbacks)\u001B[0m\n\u001B[0;32m     36\u001B[0m \u001B[38;5;28;01mif\u001B[39;00m overrides\u001B[38;5;241m.\u001B[39mget(\u001B[38;5;124m\"\u001B[39m\u001B[38;5;124mimgsz\u001B[39m\u001B[38;5;124m\"\u001B[39m) \u001B[38;5;129;01mis\u001B[39;00m \u001B[38;5;28;01mNone\u001B[39;00m:\n\u001B[0;32m     37\u001B[0m     overrides[\u001B[38;5;124m\"\u001B[39m\u001B[38;5;124mimgsz\u001B[39m\u001B[38;5;124m\"\u001B[39m] \u001B[38;5;241m=\u001B[39m \u001B[38;5;241m224\u001B[39m\n\u001B[1;32m---> 38\u001B[0m \u001B[38;5;28;43msuper\u001B[39;49m\u001B[43m(\u001B[49m\u001B[43m)\u001B[49m\u001B[38;5;241;43m.\u001B[39;49m\u001B[38;5;21;43m__init__\u001B[39;49m\u001B[43m(\u001B[49m\u001B[43mcfg\u001B[49m\u001B[43m,\u001B[49m\u001B[43m \u001B[49m\u001B[43moverrides\u001B[49m\u001B[43m,\u001B[49m\u001B[43m \u001B[49m\u001B[43m_callbacks\u001B[49m\u001B[43m)\u001B[49m\n",
      "File \u001B[1;32m~\\AppData\\Local\\Packages\\PythonSoftwareFoundation.Python.3.11_qbz5n2kfra8p0\\LocalCache\\local-packages\\Python311\\site-packages\\ultralytics\\engine\\trainer.py:133\u001B[0m, in \u001B[0;36mBaseTrainer.__init__\u001B[1;34m(self, cfg, overrides, _callbacks)\u001B[0m\n\u001B[0;32m    131\u001B[0m \u001B[38;5;28mself\u001B[39m\u001B[38;5;241m.\u001B[39mmodel \u001B[38;5;241m=\u001B[39m check_model_file_from_stem(\u001B[38;5;28mself\u001B[39m\u001B[38;5;241m.\u001B[39margs\u001B[38;5;241m.\u001B[39mmodel)  \u001B[38;5;66;03m# add suffix, i.e. yolov8n -> yolov8n.pt\u001B[39;00m\n\u001B[0;32m    132\u001B[0m \u001B[38;5;28;01mwith\u001B[39;00m torch_distributed_zero_first(LOCAL_RANK):  \u001B[38;5;66;03m# avoid auto-downloading dataset multiple times\u001B[39;00m\n\u001B[1;32m--> 133\u001B[0m     \u001B[38;5;28mself\u001B[39m\u001B[38;5;241m.\u001B[39mtrainset, \u001B[38;5;28mself\u001B[39m\u001B[38;5;241m.\u001B[39mtestset \u001B[38;5;241m=\u001B[39m \u001B[38;5;28;43mself\u001B[39;49m\u001B[38;5;241;43m.\u001B[39;49m\u001B[43mget_dataset\u001B[49m\u001B[43m(\u001B[49m\u001B[43m)\u001B[49m\n\u001B[0;32m    134\u001B[0m \u001B[38;5;28mself\u001B[39m\u001B[38;5;241m.\u001B[39mema \u001B[38;5;241m=\u001B[39m \u001B[38;5;28;01mNone\u001B[39;00m\n\u001B[0;32m    136\u001B[0m \u001B[38;5;66;03m# Optimization utils init\u001B[39;00m\n",
      "File \u001B[1;32m~\\AppData\\Local\\Packages\\PythonSoftwareFoundation.Python.3.11_qbz5n2kfra8p0\\LocalCache\\local-packages\\Python311\\site-packages\\ultralytics\\engine\\trainer.py:539\u001B[0m, in \u001B[0;36mBaseTrainer.get_dataset\u001B[1;34m(self)\u001B[0m\n\u001B[0;32m    537\u001B[0m             \u001B[38;5;28mself\u001B[39m\u001B[38;5;241m.\u001B[39margs\u001B[38;5;241m.\u001B[39mdata \u001B[38;5;241m=\u001B[39m data[\u001B[38;5;124m\"\u001B[39m\u001B[38;5;124myaml_file\u001B[39m\u001B[38;5;124m\"\u001B[39m]  \u001B[38;5;66;03m# for validating 'yolo train data=url.zip' usage\u001B[39;00m\n\u001B[0;32m    538\u001B[0m \u001B[38;5;28;01mexcept\u001B[39;00m \u001B[38;5;167;01mException\u001B[39;00m \u001B[38;5;28;01mas\u001B[39;00m e:\n\u001B[1;32m--> 539\u001B[0m     \u001B[38;5;28;01mraise\u001B[39;00m \u001B[38;5;167;01mRuntimeError\u001B[39;00m(emojis(\u001B[38;5;124mf\u001B[39m\u001B[38;5;124m\"\u001B[39m\u001B[38;5;124mDataset \u001B[39m\u001B[38;5;124m'\u001B[39m\u001B[38;5;132;01m{\u001B[39;00mclean_url(\u001B[38;5;28mself\u001B[39m\u001B[38;5;241m.\u001B[39margs\u001B[38;5;241m.\u001B[39mdata)\u001B[38;5;132;01m}\u001B[39;00m\u001B[38;5;124m'\u001B[39m\u001B[38;5;124m error ❌ \u001B[39m\u001B[38;5;132;01m{\u001B[39;00me\u001B[38;5;132;01m}\u001B[39;00m\u001B[38;5;124m\"\u001B[39m)) \u001B[38;5;28;01mfrom\u001B[39;00m \u001B[38;5;21;01me\u001B[39;00m\n\u001B[0;32m    540\u001B[0m \u001B[38;5;28mself\u001B[39m\u001B[38;5;241m.\u001B[39mdata \u001B[38;5;241m=\u001B[39m data\n\u001B[0;32m    541\u001B[0m \u001B[38;5;28;01mreturn\u001B[39;00m data[\u001B[38;5;124m\"\u001B[39m\u001B[38;5;124mtrain\u001B[39m\u001B[38;5;124m\"\u001B[39m], data\u001B[38;5;241m.\u001B[39mget(\u001B[38;5;124m\"\u001B[39m\u001B[38;5;124mval\u001B[39m\u001B[38;5;124m\"\u001B[39m) \u001B[38;5;129;01mor\u001B[39;00m data\u001B[38;5;241m.\u001B[39mget(\u001B[38;5;124m\"\u001B[39m\u001B[38;5;124mtest\u001B[39m\u001B[38;5;124m\"\u001B[39m)\n",
      "\u001B[1;31mRuntimeError\u001B[0m: Dataset '/datasets/cc.yaml' error  [WinError 3] Impossibile trovare il percorso specificato: 'C:\\\\datasets\\\\cc.yaml\\\\train'"
     ]
    }
   ]
  },
  {
   "cell_type": "code",
   "outputs": [],
   "source": [
    "%load_ext tensorboard\n",
    "%tensorboard --logdir kaggle/working/runs"
   ],
   "metadata": {
    "collapsed": false
   }
  }
 ]
}
