{
 "metadata": {
  "kernelspec": {
   "language": "python",
   "display_name": "Python 3",
   "name": "python3"
  },
  "language_info": {
   "name": "python",
   "version": "3.10.14",
   "mimetype": "text/x-python",
   "codemirror_mode": {
    "name": "ipython",
    "version": 3
   },
   "pygments_lexer": "ipython3",
   "nbconvert_exporter": "python",
   "file_extension": ".py"
  },
  "kaggle": {
   "accelerator": "nvidiaTeslaT4",
   "dataSources": [
    {
     "sourceId": 2645886,
     "sourceType": "datasetVersion",
     "datasetId": 1608934
    }
   ],
   "dockerImageVersionId": 30762,
   "isInternetEnabled": true,
   "language": "python",
   "sourceType": "notebook",
   "isGpuEnabled": true
  }
 },
 "nbformat_minor": 4,
 "nbformat": 4,
 "cells": [
  {
   "cell_type": "code",
   "source": [
    "import numpy as np\n",
    "import pandas as pd\n",
    "import os\n",
    "import cv2\n",
    "import matplotlib.image as mpimg\n",
    "import matplotlib.pyplot as plt"
   ],
   "metadata": {
    "_uuid": "8f2839f25d086af736a60e9eeb907d3b93b6e0e5",
    "_cell_guid": "b1076dfc-b9ad-4769-8c92-a6c4dae69d19",
    "execution": {
     "iopub.status.busy": "2024-09-04T15:26:49.291363Z",
     "iopub.execute_input": "2024-09-04T15:26:49.291788Z",
     "iopub.status.idle": "2024-09-04T15:26:49.847612Z",
     "shell.execute_reply.started": "2024-09-04T15:26:49.291736Z",
     "shell.execute_reply": "2024-09-04T15:26:49.846642Z"
    },
    "trusted": true,
    "ExecuteTime": {
     "end_time": "2024-09-04T16:15:26.068772Z",
     "start_time": "2024-09-04T16:15:26.062316Z"
    }
   },
   "execution_count": 5,
   "outputs": []
  },
  {
   "cell_type": "code",
   "source": [
    "base_dir = \"data\"\n",
    "train_dir = \"train\"\n",
    "train_dir = os.path.join(base_dir, train_dir)\n",
    "\n",
    "test_dir = \"test\"\n",
    "test_dir = os.path.join(base_dir, test_dir)\n",
    "\n",
    "valid_dir = \"valid\"\n",
    "valid_dir = os.path.join(base_dir, valid_dir)"
   ],
   "metadata": {
    "execution": {
     "iopub.status.busy": "2024-09-04T15:26:51.960513Z",
     "iopub.execute_input": "2024-09-04T15:26:51.961587Z",
     "iopub.status.idle": "2024-09-04T15:26:51.968122Z",
     "shell.execute_reply.started": "2024-09-04T15:26:51.961525Z",
     "shell.execute_reply": "2024-09-04T15:26:51.967080Z"
    },
    "trusted": true,
    "ExecuteTime": {
     "end_time": "2024-09-04T16:15:27.821577Z",
     "start_time": "2024-09-04T16:15:27.813648Z"
    }
   },
   "execution_count": 6,
   "outputs": []
  },
  {
   "cell_type": "code",
   "source": [
    "from ultralytics import YOLO\n",
    "\n",
    "model = YOLO('yolov8m-cls.pt')\n",
    "#watchout! Test and Val data are the same! Need to change it\n",
    "\n",
    "# train/pre-tuned the model on our dataset\n",
    "model.train(data=base_dir, epochs=10)\n",
    "metrics = model.val(save_json=True, project='/kaggle/working', name=\"results\")"
   ],
   "metadata": {
    "execution": {
     "iopub.status.busy": "2024-09-04T15:27:29.946935Z",
     "iopub.execute_input": "2024-09-04T15:27:29.947337Z",
     "iopub.status.idle": "2024-09-04T15:31:24.462918Z",
     "shell.execute_reply.started": "2024-09-04T15:27:29.947291Z",
     "shell.execute_reply": "2024-09-04T15:31:24.461899Z"
    },
    "trusted": true,
    "ExecuteTime": {
     "end_time": "2024-09-04T16:25:59.880650Z",
     "start_time": "2024-09-04T16:15:30.663903Z"
    }
   },
   "execution_count": 7,
   "outputs": [
    {
     "name": "stdout",
     "output_type": "stream",
     "text": [
      "Ultralytics YOLOv8.2.87  Python-3.11.9 torch-2.3.1+cpu CPU (Intel Core(TM) i7-10510U 1.80GHz)\n",
      "\u001B[34m\u001B[1mengine\\trainer: \u001B[0mtask=classify, mode=train, model=yolov8m-cls.pt, data=data, epochs=10, time=None, patience=100, batch=16, imgsz=224, save=True, save_period=-1, cache=False, device=None, workers=8, project=None, name=train2, exist_ok=False, pretrained=True, optimizer=auto, verbose=True, seed=0, deterministic=True, single_cls=False, rect=False, cos_lr=False, close_mosaic=10, resume=False, amp=True, fraction=1.0, profile=False, freeze=None, multi_scale=False, overlap_mask=True, mask_ratio=4, dropout=0.0, val=True, split=val, save_json=False, save_hybrid=False, conf=None, iou=0.7, max_det=300, half=False, dnn=False, plots=True, source=None, vid_stride=1, stream_buffer=False, visualize=False, augment=False, agnostic_nms=False, classes=None, retina_masks=False, embed=None, show=False, save_frames=False, save_txt=False, save_conf=False, save_crop=False, show_labels=True, show_conf=True, show_boxes=True, line_width=None, format=torchscript, keras=False, optimize=False, int8=False, dynamic=False, simplify=False, opset=None, workspace=4, nms=False, lr0=0.01, lrf=0.01, momentum=0.937, weight_decay=0.0005, warmup_epochs=3.0, warmup_momentum=0.8, warmup_bias_lr=0.1, box=7.5, cls=0.5, dfl=1.5, pose=12.0, kobj=1.0, label_smoothing=0.0, nbs=64, hsv_h=0.015, hsv_s=0.7, hsv_v=0.4, degrees=0.0, translate=0.1, scale=0.5, shear=0.0, perspective=0.0, flipud=0.0, fliplr=0.5, bgr=0.0, mosaic=1.0, mixup=0.0, copy_paste=0.0, auto_augment=randaugment, erasing=0.4, crop_fraction=1.0, cfg=None, tracker=botsort.yaml, save_dir=runs\\classify\\train2\n",
      "\u001B[34m\u001B[1mtrain:\u001B[0m C:\\Users\\civig\\Desktop\\hackathon24\\data\\train... found 2294 images in 4 classes  \n",
      "\u001B[34m\u001B[1mval:\u001B[0m C:\\Users\\civig\\Desktop\\hackathon24\\data\\val... found 576 images in 4 classes  \n",
      "\u001B[34m\u001B[1mtest:\u001B[0m C:\\Users\\civig\\Desktop\\hackathon24\\data\\test... found 394 images in 4 classes  \n",
      "Overriding model.yaml nc=1000 with nc=4\n",
      "\n",
      "                   from  n    params  module                                       arguments                     \n",
      "  0                  -1  1      1392  ultralytics.nn.modules.conv.Conv             [3, 48, 3, 2]                 \n",
      "  1                  -1  1     41664  ultralytics.nn.modules.conv.Conv             [48, 96, 3, 2]                \n",
      "  2                  -1  2    111360  ultralytics.nn.modules.block.C2f             [96, 96, 2, True]             \n",
      "  3                  -1  1    166272  ultralytics.nn.modules.conv.Conv             [96, 192, 3, 2]               \n",
      "  4                  -1  4    813312  ultralytics.nn.modules.block.C2f             [192, 192, 4, True]           \n",
      "  5                  -1  1    664320  ultralytics.nn.modules.conv.Conv             [192, 384, 3, 2]              \n",
      "  6                  -1  4   3248640  ultralytics.nn.modules.block.C2f             [384, 384, 4, True]           \n",
      "  7                  -1  1   2655744  ultralytics.nn.modules.conv.Conv             [384, 768, 3, 2]              \n",
      "  8                  -1  2   7084032  ultralytics.nn.modules.block.C2f             [768, 768, 2, True]           \n",
      "  9                  -1  1    990724  ultralytics.nn.modules.head.Classify         [768, 4]                      \n",
      "YOLOv8m-cls summary: 141 layers, 15,777,460 parameters, 15,777,460 gradients, 41.9 GFLOPs\n",
      "Transferred 228/230 items from pretrained weights\n",
      "\u001B[34m\u001B[1mTensorBoard: \u001B[0mStart with 'tensorboard --logdir runs\\classify\\train2', view at http://localhost:6006/\n"
     ]
    },
    {
     "name": "stderr",
     "output_type": "stream",
     "text": [
      "\u001B[34m\u001B[1mtrain: \u001B[0mScanning C:\\Users\\civig\\Desktop\\hackathon24\\data\\train... 2294 images, 0 corrupt: 100%|██████████| 2294/2294 [00:00<00:00, 2316.69it/s]\n"
     ]
    },
    {
     "name": "stdout",
     "output_type": "stream",
     "text": [
      "\u001B[34m\u001B[1mtrain: \u001B[0mNew cache created: C:\\Users\\civig\\Desktop\\hackathon24\\data\\train.cache\n"
     ]
    },
    {
     "name": "stderr",
     "output_type": "stream",
     "text": [
      "\u001B[34m\u001B[1mval: \u001B[0mScanning C:\\Users\\civig\\Desktop\\hackathon24\\data\\val... 576 images, 0 corrupt: 100%|██████████| 576/576 [00:00<00:00, 2066.80it/s]"
     ]
    },
    {
     "name": "stdout",
     "output_type": "stream",
     "text": [
      "\u001B[34m\u001B[1mval: \u001B[0mNew cache created: C:\\Users\\civig\\Desktop\\hackathon24\\data\\val.cache\n"
     ]
    },
    {
     "name": "stderr",
     "output_type": "stream",
     "text": [
      "\n"
     ]
    },
    {
     "name": "stdout",
     "output_type": "stream",
     "text": [
      "\u001B[34m\u001B[1moptimizer:\u001B[0m 'optimizer=auto' found, ignoring 'lr0=0.01' and 'momentum=0.937' and determining best 'optimizer', 'lr0' and 'momentum' automatically... \n",
      "\u001B[34m\u001B[1moptimizer:\u001B[0m AdamW(lr=0.000714, momentum=0.9) with parameter groups 38 weight(decay=0.0), 39 weight(decay=0.0005), 39 bias(decay=0.0)\n",
      "\u001B[34m\u001B[1mTensorBoard: \u001B[0mmodel graph visualization added \n",
      "Image sizes 224 train, 224 val\n",
      "Using 0 dataloader workers\n",
      "Logging results to \u001B[1mruns\\classify\\train2\u001B[0m\n",
      "Starting training for 10 epochs...\n",
      "\n",
      "      Epoch    GPU_mem       loss  Instances       Size\n"
     ]
    },
    {
     "name": "stderr",
     "output_type": "stream",
     "text": [
      "       1/10         0G      1.455         16        224:   1%|▏         | 2/144 [00:08<09:46,  4.13s/it]"
     ]
    },
    {
     "name": "stdout",
     "output_type": "stream",
     "text": [
      "Downloading https://ultralytics.com/assets/Arial.ttf to 'C:\\Users\\civig\\AppData\\Roaming\\Ultralytics\\Arial.ttf'...\n"
     ]
    },
    {
     "name": "stderr",
     "output_type": "stream",
     "text": [
      "       1/10         0G       1.45         16        224:   2%|▏         | 3/144 [00:14<12:06,  5.15s/it]\n",
      "  0%|          | 0.00/755k [00:00<?, ?B/s]\u001B[A\n",
      " 17%|█▋        | 128k/755k [00:00<00:04, 137kB/s]\u001B[A\n",
      " 34%|███▍      | 256k/755k [00:01<00:02, 225kB/s]\u001B[A\n",
      " 51%|█████     | 384k/755k [00:01<00:01, 268kB/s]\u001B[A\n",
      " 68%|██████▊   | 512k/755k [00:02<00:00, 294kB/s]\u001B[A\n",
      " 85%|████████▍ | 640k/755k [00:02<00:00, 238kB/s]\u001B[A\n",
      "100%|██████████| 755k/755k [00:03<00:00, 220kB/s]\u001B[A\n",
      "       1/10         0G      1.055         16        224:  87%|████████▋ | 125/144 [10:02<01:31,  4.82s/it]\n",
      "\n",
      "KeyboardInterrupt\n",
      "\n"
     ]
    }
   ]
  },
  {
   "cell_type": "code",
   "outputs": [],
   "source": [
    "%load_ext tensorboard\n",
    "%tensorboard --logdir kaggle/working/runs"
   ],
   "metadata": {
    "collapsed": false
   }
  }
 ]
}
