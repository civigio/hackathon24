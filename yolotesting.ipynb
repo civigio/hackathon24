{
 "cells": [
  {
   "cell_type": "code",
   "execution_count": 1,
   "id": "initial_id",
   "metadata": {
    "collapsed": true,
    "ExecuteTime": {
     "end_time": "2024-09-05T09:44:08.824577Z",
     "start_time": "2024-09-05T09:44:07.904986Z"
    }
   },
   "outputs": [],
   "source": [
    "import numpy as np\n",
    "import pandas as pd\n",
    "import os\n",
    "import cv2\n",
    "import matplotlib.image as mpimg\n",
    "import matplotlib.pyplot as plt"
   ]
  },
  {
   "cell_type": "code",
   "outputs": [
    {
     "name": "stdout",
     "output_type": "stream",
     "text": [
      "Ultralytics YOLOv8.2.87  Python-3.11.9 torch-2.3.1+cpu CPU (Intel Core(TM) i7-10510U 1.80GHz)\n",
      "Setup complete  (8 CPUs, 15.8 GB RAM, 138.8/237.4 GB disk)\n"
     ]
    }
   ],
   "source": [
    "from IPython import display\n",
    "display.clear_output()\n",
    "\n",
    "import ultralytics\n",
    "ultralytics.checks()"
   ],
   "metadata": {
    "collapsed": false
   },
   "id": "8849f3d43c42ac7b",
   "execution_count": 2
  },
  {
   "cell_type": "code",
   "outputs": [],
   "source": [
    "from ultralytics import YOLO\n",
    "\n",
    "from IPython.display import display, Image"
   ],
   "metadata": {
    "collapsed": false,
    "ExecuteTime": {
     "end_time": "2024-09-05T09:44:13.040082Z",
     "start_time": "2024-09-05T09:44:13.034107Z"
    }
   },
   "id": "bdfeee3dc1d9619b",
   "execution_count": 3
  },
  {
   "cell_type": "code",
   "outputs": [
    {
     "name": "stdout",
     "output_type": "stream",
     "text": [
      "image 1/1 C:\\Users\\civig\\Desktop\\hackathon24\\pulmonary_tumor.jpg: 128x128 none 0.99, meningioma_tumor 0.01, no_tumor 0.01, glioma_tumor 0.00, pituitary_tumor 0.00, 49.2ms\n",
      "Speed: 6.2ms preprocess, 49.2ms inference, 0.0ms postprocess per image at shape (1, 3, 128, 128)\n",
      "None\n"
     ]
    }
   ],
   "source": [
    "model = YOLO(\"my-yolo-none.pt\")\n",
    "\n",
    "result = model(\"pulmonary_tumor.jpg\", conf=0.25, task=\"classify\", mode=\"predict\")\n",
    "\n",
    "for r in result:\n",
    "    print(r.masks)\n",
    "    \n",
    "#!tolo task=classify mode=predict model=my-yolo-none.pt conf=0.25 source=pulmonary_tumor.jpg"
   ],
   "metadata": {
    "collapsed": false,
    "ExecuteTime": {
     "end_time": "2024-09-05T09:55:06.971593Z",
     "start_time": "2024-09-05T09:55:04.775723Z"
    }
   },
   "id": "751b051ace8303b5",
   "execution_count": 9
  }
 ],
 "metadata": {
  "kernelspec": {
   "display_name": "Python 3",
   "language": "python",
   "name": "python3"
  },
  "language_info": {
   "codemirror_mode": {
    "name": "ipython",
    "version": 2
   },
   "file_extension": ".py",
   "mimetype": "text/x-python",
   "name": "python",
   "nbconvert_exporter": "python",
   "pygments_lexer": "ipython2",
   "version": "2.7.6"
  }
 },
 "nbformat": 4,
 "nbformat_minor": 5
}
