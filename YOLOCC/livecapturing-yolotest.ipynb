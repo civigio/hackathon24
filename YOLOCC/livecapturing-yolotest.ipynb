{
 "cells": [
  {
   "cell_type": "code",
   "execution_count": 7,
   "id": "initial_id",
   "metadata": {
    "collapsed": true,
    "ExecuteTime": {
     "end_time": "2024-09-06T14:29:34.083117Z",
     "start_time": "2024-09-06T14:29:34.078128Z"
    }
   },
   "outputs": [],
   "source": [
    "import cv2\n",
    "import numpy as np\n",
    "import matplotlib.pyplot as qplt\n",
    "import numpy as np\n",
    "import pandas as pd\n",
    "import os\n",
    "import cv2\n",
    "import matplotlib.image as mpimg\n",
    "import matplotlib.pyplot as plt"
   ]
  },
  {
   "cell_type": "code",
   "outputs": [
    {
     "name": "stdout",
     "output_type": "stream",
     "text": [
      "Ultralytics YOLOv8.2.87  Python-3.11.9 torch-2.3.1+cpu CPU (Intel Core(TM) i7-10510U 1.80GHz)\n",
      "Setup complete  (8 CPUs, 15.8 GB RAM, 173.7/237.4 GB disk)\n"
     ]
    }
   ],
   "source": [
    "from IPython import display\n",
    "display.clear_output()\n",
    "\n",
    "import ultralytics\n",
    "ultralytics.checks()"
   ],
   "metadata": {
    "collapsed": false
   },
   "id": "83f7bc91309798d",
   "execution_count": 8
  },
  {
   "cell_type": "code",
   "outputs": [],
   "source": [
    "from ultralytics import YOLO\n",
    "\n",
    "from IPython.display import display, Image"
   ],
   "metadata": {
    "collapsed": false,
    "ExecuteTime": {
     "end_time": "2024-09-06T14:29:35.997029Z",
     "start_time": "2024-09-06T14:29:35.991450Z"
    }
   },
   "id": "4c4993a641c9a901",
   "execution_count": 9
  },
  {
   "cell_type": "code",
   "outputs": [],
   "source": [
    "model = YOLO(\"YOLO-CC-V1.pt\")"
   ],
   "metadata": {
    "collapsed": false,
    "ExecuteTime": {
     "end_time": "2024-09-06T14:29:36.091858Z",
     "start_time": "2024-09-06T14:29:35.998307Z"
    }
   },
   "id": "c134592cf1b3d431",
   "execution_count": 10
  },
  {
   "cell_type": "code",
   "outputs": [],
   "source": [
    "cap = cv2.VideoCapture(1)\n",
    "i=0\n",
    "frames = []\n",
    "while True:\n",
    "    cap.set(cv2.CAP_PROP_FRAME_WIDTH, i)\n",
    "    ret, frame = cap.read()\n",
    "    frames.append(frame)\n",
    "    #frame = cv2.cvtColor(frame, cv2.COLOR_BGR2RGB)\n",
    "    cv2.imshow('frame', frame)\n",
    "    i=i+5\n",
    "    \n",
    "    if cv2.waitKey(1) == ord('q'):\n",
    "        break"
   ],
   "metadata": {
    "collapsed": false,
    "ExecuteTime": {
     "end_time": "2024-09-06T14:29:42.286697Z",
     "start_time": "2024-09-06T14:29:36.095637Z"
    }
   },
   "id": "87a127f0a5e7d948",
   "execution_count": 11
  },
  {
   "cell_type": "code",
   "outputs": [
    {
     "name": "stdout",
     "output_type": "stream",
     "text": [
      "0: 128x128 nothing_frames 0.51, trace_frames 0.30, doubt_frames 0.19, 16.3ms\n",
      "1: 128x128 nothing_frames 0.50, trace_frames 0.34, doubt_frames 0.17, 16.3ms\n",
      "2: 128x128 nothing_frames 0.57, trace_frames 0.23, doubt_frames 0.20, 16.3ms\n",
      "3: 128x128 nothing_frames 0.56, trace_frames 0.23, doubt_frames 0.21, 16.3ms\n",
      "4: 128x128 nothing_frames 0.57, trace_frames 0.24, doubt_frames 0.19, 16.3ms\n",
      "5: 128x128 nothing_frames 0.57, trace_frames 0.24, doubt_frames 0.19, 16.3ms\n",
      "6: 128x128 nothing_frames 0.51, trace_frames 0.29, doubt_frames 0.20, 16.3ms\n",
      "7: 128x128 nothing_frames 0.51, trace_frames 0.29, doubt_frames 0.20, 16.3ms\n",
      "8: 128x128 nothing_frames 0.50, trace_frames 0.32, doubt_frames 0.18, 16.3ms\n",
      "9: 128x128 nothing_frames 0.55, trace_frames 0.26, doubt_frames 0.19, 16.3ms\n",
      "10: 128x128 nothing_frames 0.67, trace_frames 0.18, doubt_frames 0.16, 16.3ms\n",
      "11: 128x128 nothing_frames 0.67, trace_frames 0.18, doubt_frames 0.16, 16.3ms\n",
      "12: 128x128 nothing_frames 0.58, trace_frames 0.24, doubt_frames 0.18, 16.3ms\n",
      "13: 128x128 nothing_frames 0.52, trace_frames 0.28, doubt_frames 0.20, 16.3ms\n",
      "14: 128x128 nothing_frames 0.54, trace_frames 0.27, doubt_frames 0.19, 16.3ms\n",
      "15: 128x128 nothing_frames 0.54, trace_frames 0.27, doubt_frames 0.19, 16.3ms\n",
      "16: 128x128 nothing_frames 0.59, trace_frames 0.20, doubt_frames 0.20, 16.3ms\n",
      "17: 128x128 nothing_frames 0.59, trace_frames 0.20, doubt_frames 0.20, 16.3ms\n",
      "18: 128x128 nothing_frames 0.54, trace_frames 0.26, doubt_frames 0.20, 16.3ms\n",
      "19: 128x128 nothing_frames 0.52, trace_frames 0.30, doubt_frames 0.17, 16.3ms\n",
      "20: 128x128 nothing_frames 0.56, doubt_frames 0.23, trace_frames 0.21, 16.3ms\n",
      "21: 128x128 nothing_frames 0.54, trace_frames 0.25, doubt_frames 0.21, 16.3ms\n",
      "22: 128x128 nothing_frames 0.55, trace_frames 0.24, doubt_frames 0.22, 16.3ms\n",
      "23: 128x128 nothing_frames 0.59, trace_frames 0.25, doubt_frames 0.16, 16.3ms\n",
      "24: 128x128 nothing_frames 0.59, trace_frames 0.25, doubt_frames 0.16, 16.3ms\n",
      "25: 128x128 nothing_frames 0.56, trace_frames 0.27, doubt_frames 0.17, 16.3ms\n",
      "26: 128x128 nothing_frames 0.56, trace_frames 0.27, doubt_frames 0.17, 16.3ms\n",
      "27: 128x128 nothing_frames 0.42, trace_frames 0.36, doubt_frames 0.21, 16.3ms\n",
      "28: 128x128 nothing_frames 0.42, trace_frames 0.36, doubt_frames 0.21, 16.3ms\n",
      "29: 128x128 nothing_frames 0.51, trace_frames 0.31, doubt_frames 0.18, 16.3ms\n",
      "30: 128x128 nothing_frames 0.51, trace_frames 0.31, doubt_frames 0.18, 16.3ms\n",
      "31: 128x128 nothing_frames 0.57, trace_frames 0.23, doubt_frames 0.21, 16.3ms\n",
      "32: 128x128 nothing_frames 0.56, trace_frames 0.25, doubt_frames 0.19, 16.3ms\n",
      "33: 128x128 nothing_frames 0.52, trace_frames 0.26, doubt_frames 0.23, 16.3ms\n",
      "34: 128x128 nothing_frames 0.62, trace_frames 0.20, doubt_frames 0.18, 16.3ms\n",
      "35: 128x128 nothing_frames 0.59, trace_frames 0.23, doubt_frames 0.18, 16.3ms\n",
      "36: 128x128 nothing_frames 0.52, trace_frames 0.25, doubt_frames 0.23, 16.3ms\n",
      "37: 128x128 nothing_frames 0.56, trace_frames 0.25, doubt_frames 0.19, 16.3ms\n",
      "38: 128x128 nothing_frames 0.63, trace_frames 0.23, doubt_frames 0.14, 16.3ms\n",
      "39: 128x128 nothing_frames 0.60, doubt_frames 0.20, trace_frames 0.20, 16.3ms\n",
      "40: 128x128 nothing_frames 0.56, trace_frames 0.24, doubt_frames 0.19, 16.3ms\n",
      "41: 128x128 nothing_frames 0.53, trace_frames 0.27, doubt_frames 0.20, 16.3ms\n",
      "42: 128x128 nothing_frames 0.55, trace_frames 0.27, doubt_frames 0.18, 16.3ms\n",
      "43: 128x128 nothing_frames 0.58, trace_frames 0.23, doubt_frames 0.18, 16.3ms\n",
      "44: 128x128 nothing_frames 0.52, trace_frames 0.28, doubt_frames 0.20, 16.3ms\n",
      "45: 128x128 nothing_frames 0.52, trace_frames 0.28, doubt_frames 0.20, 16.3ms\n",
      "46: 128x128 nothing_frames 0.54, trace_frames 0.30, doubt_frames 0.16, 16.3ms\n",
      "47: 128x128 nothing_frames 0.54, trace_frames 0.27, doubt_frames 0.19, 16.3ms\n",
      "48: 128x128 nothing_frames 0.54, trace_frames 0.27, doubt_frames 0.19, 16.3ms\n",
      "49: 128x128 nothing_frames 0.60, trace_frames 0.25, doubt_frames 0.15, 16.3ms\n",
      "50: 128x128 nothing_frames 0.54, trace_frames 0.26, doubt_frames 0.20, 16.3ms\n",
      "51: 128x128 nothing_frames 0.60, trace_frames 0.27, doubt_frames 0.13, 16.3ms\n",
      "52: 128x128 nothing_frames 0.61, trace_frames 0.25, doubt_frames 0.14, 16.3ms\n",
      "53: 128x128 nothing_frames 0.48, trace_frames 0.32, doubt_frames 0.19, 16.3ms\n",
      "54: 128x128 nothing_frames 0.48, trace_frames 0.32, doubt_frames 0.19, 16.3ms\n",
      "55: 128x128 nothing_frames 0.48, trace_frames 0.32, doubt_frames 0.19, 16.3ms\n",
      "56: 128x128 nothing_frames 0.51, trace_frames 0.28, doubt_frames 0.21, 16.3ms\n",
      "57: 128x128 nothing_frames 0.51, trace_frames 0.28, doubt_frames 0.21, 16.3ms\n",
      "58: 128x128 nothing_frames 0.58, trace_frames 0.28, doubt_frames 0.15, 16.3ms\n",
      "59: 128x128 nothing_frames 0.50, trace_frames 0.27, doubt_frames 0.23, 16.3ms\n",
      "60: 128x128 nothing_frames 0.48, trace_frames 0.33, doubt_frames 0.19, 16.3ms\n",
      "61: 128x128 nothing_frames 0.53, trace_frames 0.27, doubt_frames 0.19, 16.3ms\n",
      "62: 128x128 nothing_frames 0.47, trace_frames 0.33, doubt_frames 0.20, 16.3ms\n",
      "63: 128x128 nothing_frames 0.54, trace_frames 0.26, doubt_frames 0.21, 16.3ms\n",
      "64: 128x128 nothing_frames 0.55, trace_frames 0.29, doubt_frames 0.16, 16.3ms\n",
      "65: 128x128 nothing_frames 0.55, trace_frames 0.29, doubt_frames 0.16, 16.3ms\n",
      "66: 128x128 nothing_frames 0.50, trace_frames 0.30, doubt_frames 0.20, 16.3ms\n",
      "67: 128x128 nothing_frames 0.49, trace_frames 0.29, doubt_frames 0.22, 16.3ms\n",
      "68: 128x128 nothing_frames 0.49, trace_frames 0.29, doubt_frames 0.22, 16.3ms\n",
      "69: 128x128 nothing_frames 0.56, trace_frames 0.28, doubt_frames 0.16, 16.3ms\n",
      "70: 128x128 nothing_frames 0.56, trace_frames 0.28, doubt_frames 0.16, 16.3ms\n",
      "71: 128x128 nothing_frames 0.44, trace_frames 0.34, doubt_frames 0.22, 16.3ms\n",
      "72: 128x128 nothing_frames 0.55, trace_frames 0.25, doubt_frames 0.20, 16.3ms\n",
      "73: 128x128 nothing_frames 0.55, trace_frames 0.25, doubt_frames 0.20, 16.3ms\n",
      "74: 128x128 nothing_frames 0.57, trace_frames 0.24, doubt_frames 0.19, 16.3ms\n",
      "75: 128x128 nothing_frames 0.56, trace_frames 0.27, doubt_frames 0.17, 16.3ms\n",
      "76: 128x128 nothing_frames 0.55, trace_frames 0.28, doubt_frames 0.17, 16.3ms\n",
      "77: 128x128 nothing_frames 0.60, trace_frames 0.23, doubt_frames 0.17, 16.3ms\n",
      "78: 128x128 nothing_frames 0.57, trace_frames 0.27, doubt_frames 0.17, 16.3ms\n",
      "79: 128x128 nothing_frames 0.64, trace_frames 0.22, doubt_frames 0.14, 16.3ms\n",
      "80: 128x128 nothing_frames 0.64, trace_frames 0.22, doubt_frames 0.14, 16.3ms\n",
      "81: 128x128 nothing_frames 0.67, trace_frames 0.20, doubt_frames 0.13, 16.3ms\n",
      "82: 128x128 nothing_frames 0.56, trace_frames 0.25, doubt_frames 0.20, 16.3ms\n",
      "83: 128x128 nothing_frames 0.49, trace_frames 0.29, doubt_frames 0.22, 16.3ms\n",
      "84: 128x128 nothing_frames 0.60, doubt_frames 0.20, trace_frames 0.20, 16.3ms\n",
      "85: 128x128 nothing_frames 0.81, trace_frames 0.12, doubt_frames 0.07, 16.3ms\n",
      "86: 128x128 nothing_frames 0.64, trace_frames 0.23, doubt_frames 0.13, 16.3ms\n",
      "87: 128x128 nothing_frames 0.73, trace_frames 0.15, doubt_frames 0.12, 16.3ms\n",
      "88: 128x128 nothing_frames 0.60, trace_frames 0.22, doubt_frames 0.19, 16.3ms\n",
      "89: 128x128 nothing_frames 0.47, trace_frames 0.31, doubt_frames 0.22, 16.3ms\n",
      "90: 128x128 nothing_frames 0.54, doubt_frames 0.25, trace_frames 0.21, 16.3ms\n",
      "91: 128x128 nothing_frames 0.36, doubt_frames 0.32, trace_frames 0.31, 16.3ms\n",
      "92: 128x128 nothing_frames 0.36, doubt_frames 0.32, trace_frames 0.31, 16.3ms\n",
      "93: 128x128 nothing_frames 0.39, doubt_frames 0.30, trace_frames 0.30, 16.3ms\n",
      "94: 128x128 nothing_frames 0.39, doubt_frames 0.30, trace_frames 0.30, 16.3ms\n",
      "95: 128x128 nothing_frames 0.40, trace_frames 0.30, doubt_frames 0.30, 16.3ms\n",
      "96: 128x128 nothing_frames 0.65, trace_frames 0.19, doubt_frames 0.16, 16.3ms\n",
      "97: 128x128 nothing_frames 0.65, trace_frames 0.19, doubt_frames 0.16, 16.3ms\n",
      "98: 128x128 nothing_frames 0.63, trace_frames 0.19, doubt_frames 0.17, 16.3ms\n",
      "99: 128x128 nothing_frames 0.63, trace_frames 0.19, doubt_frames 0.17, 16.3ms\n",
      "100: 128x128 nothing_frames 0.51, doubt_frames 0.26, trace_frames 0.23, 16.3ms\n",
      "101: 128x128 nothing_frames 0.51, doubt_frames 0.26, trace_frames 0.23, 16.3ms\n",
      "102: 128x128 doubt_frames 0.44, nothing_frames 0.38, trace_frames 0.18, 16.3ms\n",
      "103: 128x128 trace_frames 0.55, nothing_frames 0.24, doubt_frames 0.21, 16.3ms\n",
      "104: 128x128 trace_frames 0.55, nothing_frames 0.24, doubt_frames 0.21, 16.3ms\n",
      "105: 128x128 nothing_frames 0.75, doubt_frames 0.14, trace_frames 0.11, 16.3ms\n",
      "106: 128x128 nothing_frames 0.70, trace_frames 0.15, doubt_frames 0.15, 16.3ms\n",
      "107: 128x128 nothing_frames 0.70, trace_frames 0.15, doubt_frames 0.15, 16.3ms\n",
      "108: 128x128 nothing_frames 0.55, doubt_frames 0.26, trace_frames 0.18, 16.3ms\n",
      "109: 128x128 nothing_frames 0.55, doubt_frames 0.26, trace_frames 0.18, 16.3ms\n",
      "110: 128x128 trace_frames 0.48, doubt_frames 0.35, nothing_frames 0.17, 16.3ms\n",
      "111: 128x128 trace_frames 0.48, doubt_frames 0.35, nothing_frames 0.17, 16.3ms\n",
      "112: 128x128 nothing_frames 0.56, doubt_frames 0.29, trace_frames 0.15, 16.3ms\n",
      "113: 128x128 nothing_frames 0.57, doubt_frames 0.29, trace_frames 0.14, 16.3ms\n",
      "114: 128x128 nothing_frames 0.67, doubt_frames 0.25, trace_frames 0.08, 16.3ms\n",
      "115: 128x128 nothing_frames 0.54, doubt_frames 0.37, trace_frames 0.09, 16.3ms\n",
      "116: 128x128 nothing_frames 0.54, doubt_frames 0.37, trace_frames 0.09, 16.3ms\n",
      "117: 128x128 nothing_frames 0.76, doubt_frames 0.17, trace_frames 0.07, 16.3ms\n",
      "118: 128x128 nothing_frames 0.75, doubt_frames 0.17, trace_frames 0.08, 16.3ms\n",
      "119: 128x128 nothing_frames 0.75, doubt_frames 0.17, trace_frames 0.08, 16.3ms\n",
      "120: 128x128 nothing_frames 0.75, doubt_frames 0.17, trace_frames 0.08, 16.3ms\n",
      "121: 128x128 nothing_frames 0.75, doubt_frames 0.17, trace_frames 0.08, 16.3ms\n",
      "122: 128x128 nothing_frames 0.75, doubt_frames 0.17, trace_frames 0.08, 16.3ms\n",
      "123: 128x128 nothing_frames 0.75, doubt_frames 0.17, trace_frames 0.08, 16.3ms\n",
      "124: 128x128 nothing_frames 0.75, doubt_frames 0.17, trace_frames 0.08, 16.3ms\n",
      "125: 128x128 nothing_frames 0.75, doubt_frames 0.17, trace_frames 0.08, 16.3ms\n",
      "126: 128x128 nothing_frames 0.75, doubt_frames 0.17, trace_frames 0.08, 16.3ms\n",
      "127: 128x128 nothing_frames 0.75, doubt_frames 0.17, trace_frames 0.08, 16.3ms\n",
      "128: 128x128 nothing_frames 0.75, doubt_frames 0.17, trace_frames 0.08, 16.3ms\n",
      "129: 128x128 nothing_frames 0.75, doubt_frames 0.17, trace_frames 0.08, 16.3ms\n",
      "130: 128x128 nothing_frames 0.75, doubt_frames 0.17, trace_frames 0.08, 16.3ms\n",
      "131: 128x128 nothing_frames 0.75, doubt_frames 0.17, trace_frames 0.08, 16.3ms\n",
      "132: 128x128 nothing_frames 0.75, doubt_frames 0.17, trace_frames 0.08, 16.3ms\n",
      "133: 128x128 nothing_frames 0.75, doubt_frames 0.17, trace_frames 0.08, 16.3ms\n",
      "134: 128x128 nothing_frames 0.75, doubt_frames 0.17, trace_frames 0.08, 16.3ms\n",
      "135: 128x128 nothing_frames 0.75, doubt_frames 0.17, trace_frames 0.08, 16.3ms\n",
      "136: 128x128 nothing_frames 0.75, doubt_frames 0.17, trace_frames 0.08, 16.3ms\n",
      "137: 128x128 nothing_frames 0.75, doubt_frames 0.17, trace_frames 0.08, 16.3ms\n",
      "138: 128x128 nothing_frames 0.75, doubt_frames 0.17, trace_frames 0.08, 16.3ms\n",
      "139: 128x128 trace_frames 0.63, doubt_frames 0.26, nothing_frames 0.11, 16.3ms\n",
      "140: 128x128 nothing_frames 0.52, doubt_frames 0.24, trace_frames 0.24, 16.3ms\n",
      "141: 128x128 nothing_frames 0.81, doubt_frames 0.11, trace_frames 0.08, 16.3ms\n",
      "142: 128x128 nothing_frames 0.83, doubt_frames 0.10, trace_frames 0.07, 16.3ms\n",
      "143: 128x128 nothing_frames 0.83, doubt_frames 0.10, trace_frames 0.07, 16.3ms\n",
      "144: 128x128 nothing_frames 0.81, doubt_frames 0.11, trace_frames 0.08, 16.3ms\n",
      "145: 128x128 trace_frames 0.69, doubt_frames 0.28, nothing_frames 0.03, 16.3ms\n",
      "146: 128x128 trace_frames 0.76, doubt_frames 0.22, nothing_frames 0.03, 16.3ms\n",
      "147: 128x128 trace_frames 0.76, doubt_frames 0.22, nothing_frames 0.03, 16.3ms\n",
      "148: 128x128 trace_frames 0.57, doubt_frames 0.33, nothing_frames 0.09, 16.3ms\n",
      "149: 128x128 nothing_frames 0.56, doubt_frames 0.29, trace_frames 0.15, 16.3ms\n",
      "150: 128x128 nothing_frames 0.62, doubt_frames 0.26, trace_frames 0.11, 16.3ms\n",
      "151: 128x128 nothing_frames 0.62, doubt_frames 0.26, trace_frames 0.11, 16.3ms\n",
      "152: 128x128 nothing_frames 0.44, doubt_frames 0.33, trace_frames 0.23, 16.3ms\n",
      "153: 128x128 doubt_frames 0.59, trace_frames 0.26, nothing_frames 0.15, 16.3ms\n",
      "154: 128x128 doubt_frames 0.43, trace_frames 0.33, nothing_frames 0.23, 16.3ms\n",
      "155: 128x128 doubt_frames 0.43, trace_frames 0.33, nothing_frames 0.23, 16.3ms\n",
      "156: 128x128 trace_frames 0.36, nothing_frames 0.33, doubt_frames 0.31, 16.3ms\n",
      "157: 128x128 trace_frames 0.36, nothing_frames 0.33, doubt_frames 0.31, 16.3ms\n",
      "158: 128x128 trace_frames 0.36, nothing_frames 0.33, doubt_frames 0.31, 16.3ms\n",
      "159: 128x128 nothing_frames 0.86, doubt_frames 0.09, trace_frames 0.05, 16.3ms\n",
      "160: 128x128 nothing_frames 0.86, doubt_frames 0.09, trace_frames 0.05, 16.3ms\n",
      "161: 128x128 trace_frames 0.63, doubt_frames 0.26, nothing_frames 0.11, 16.3ms\n",
      "162: 128x128 trace_frames 0.52, doubt_frames 0.30, nothing_frames 0.17, 16.3ms\n",
      "163: 128x128 doubt_frames 0.59, trace_frames 0.35, nothing_frames 0.07, 16.3ms\n",
      "164: 128x128 doubt_frames 0.59, trace_frames 0.35, nothing_frames 0.07, 16.3ms\n",
      "165: 128x128 trace_frames 0.43, doubt_frames 0.42, nothing_frames 0.15, 16.3ms\n",
      "166: 128x128 trace_frames 0.54, doubt_frames 0.37, nothing_frames 0.09, 16.3ms\n",
      "167: 128x128 trace_frames 0.59, doubt_frames 0.36, nothing_frames 0.06, 16.3ms\n",
      "168: 128x128 trace_frames 0.44, doubt_frames 0.43, nothing_frames 0.13, 16.3ms\n",
      "169: 128x128 doubt_frames 0.60, nothing_frames 0.22, trace_frames 0.18, 16.3ms\n",
      "170: 128x128 nothing_frames 0.69, doubt_frames 0.22, trace_frames 0.09, 16.3ms\n",
      "171: 128x128 nothing_frames 0.58, trace_frames 0.21, doubt_frames 0.20, 16.3ms\n",
      "172: 128x128 nothing_frames 0.53, doubt_frames 0.30, trace_frames 0.17, 16.3ms\n",
      "173: 128x128 nothing_frames 0.53, doubt_frames 0.30, trace_frames 0.17, 16.3ms\n",
      "174: 128x128 nothing_frames 0.53, doubt_frames 0.30, trace_frames 0.17, 16.3ms\n",
      "175: 128x128 nothing_frames 0.61, trace_frames 0.28, doubt_frames 0.11, 16.3ms\n",
      "176: 128x128 nothing_frames 0.42, trace_frames 0.36, doubt_frames 0.22, 16.3ms\n",
      "177: 128x128 trace_frames 0.54, doubt_frames 0.34, nothing_frames 0.11, 16.3ms\n",
      "178: 128x128 trace_frames 0.54, doubt_frames 0.34, nothing_frames 0.11, 16.3ms\n",
      "179: 128x128 trace_frames 0.54, doubt_frames 0.34, nothing_frames 0.11, 16.3ms\n",
      "Speed: 15.3ms preprocess, 16.3ms inference, 0.0ms postprocess per image at shape (1, 3, 128, 128)\n",
      "Results saved to \u001B[1mruns\\classify\\predict12\u001B[0m\n",
      "180 labels saved to runs\\classify\\predict12\\labels\n"
     ]
    }
   ],
   "source": [
    "results = model(frames, conf=0.25, task=\"classify\", mode=\"predict\", save=True, save_txt=True, save_conf=True, save_crop=False)"
   ],
   "metadata": {
    "collapsed": false,
    "ExecuteTime": {
     "end_time": "2024-09-06T14:29:55.900372Z",
     "start_time": "2024-09-06T14:29:42.289072Z"
    }
   },
   "id": "7bdca97f80faabcb",
   "execution_count": 12
  },
  {
   "cell_type": "code",
   "outputs": [],
   "source": [
    "from glob import glob\n",
    "imgnames = glob(r\"C:\\Users\\civig\\Desktop\\hackathon24\\YOLOCC\\runs\\classify\\predict12\\*.jpg\")\n",
    "imgnames[0][-5:-4]\n",
    "probs = {}\n",
    "for imgname in imgnames:\n",
    "    img = mpimg.imread(imgname)\n",
    "    index = int(imgname[-5:-4])\n",
    "    labelfile = os.path.join(r\"C:\\Users\\civig\\Desktop\\hackathon24\\YOLOCC\\runs\\classify\\predict12\\labels\", f\"image{index}.txt\")\n",
    "    with open(labelfile, \"r\") as f:\n",
    "        lines = f.readlines()\n",
    "        #print(lines)\n",
    "        outcomes = {}\n",
    "        for line in lines:\n",
    "            # read number and string in line\n",
    "            number, string = line.split(\" \", 1)\n",
    "            #print(number, string)\n",
    "            outcomes[string] = float(number)\n",
    "        #print(index, outcomes)\n",
    "        probs[index] = outcomes"
   ],
   "metadata": {
    "collapsed": false,
    "ExecuteTime": {
     "end_time": "2024-09-06T14:34:21.303218Z",
     "start_time": "2024-09-06T14:34:19.431697Z"
    }
   },
   "id": "99cecff98127b896",
   "execution_count": 16
  },
  {
   "cell_type": "code",
   "outputs": [
    {
     "name": "stdout",
     "output_type": "stream",
     "text": [
      "0 0.3\n",
      "1 0.34\n",
      "2 0.23\n",
      "3 0.23\n",
      "4 0.24\n",
      "5 0.24\n",
      "6 0.29\n",
      "7 0.29\n",
      "8 0.32\n",
      "9 0.26\n"
     ]
    }
   ],
   "source": [
    "import shutil\n",
    "for index, outcomes in probs.items():\n",
    "    if outcomes['trace_frames\\n'] > 0.2:\n",
    "        print(index, outcomes['trace_frames\\n'])\n",
    "        shutil.copy2(rf\"C:\\Users\\civig\\Desktop\\hackathon24\\YOLOCC\\runs\\classify\\predict12\\image{index}.jpg\", r\"C:\\Users\\civig\\Desktop\\hackathon24\\YOLOCC\\tracelive\")"
   ],
   "metadata": {
    "collapsed": false,
    "ExecuteTime": {
     "end_time": "2024-09-06T14:34:47.399688Z",
     "start_time": "2024-09-06T14:34:47.379432Z"
    }
   },
   "id": "53b3a6458cbedfc3",
   "execution_count": 18
  }
 ],
 "metadata": {
  "kernelspec": {
   "display_name": "Python 3",
   "language": "python",
   "name": "python3"
  },
  "language_info": {
   "codemirror_mode": {
    "name": "ipython",
    "version": 2
   },
   "file_extension": ".py",
   "mimetype": "text/x-python",
   "name": "python",
   "nbconvert_exporter": "python",
   "pygments_lexer": "ipython2",
   "version": "2.7.6"
  }
 },
 "nbformat": 4,
 "nbformat_minor": 5
}
