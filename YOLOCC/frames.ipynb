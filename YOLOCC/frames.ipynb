{
 "cells": [
  {
   "cell_type": "code",
   "execution_count": 1,
   "id": "837927fc-b1da-4911-a8ca-4cea8f1e1eb7",
   "metadata": {
    "ExecuteTime": {
     "end_time": "2024-09-06T10:27:47.751991Z",
     "start_time": "2024-09-06T10:21:40.505399Z"
    }
   },
   "outputs": [
    {
     "ename": "KeyboardInterrupt",
     "evalue": "",
     "output_type": "error",
     "traceback": [
      "\u001B[1;31m---------------------------------------------------------------------------\u001B[0m",
      "\u001B[1;31mKeyboardInterrupt\u001B[0m                         Traceback (most recent call last)",
      "Cell \u001B[1;32mIn[1], line 28\u001B[0m\n\u001B[0;32m     26\u001B[0m \u001B[38;5;66;03m# Save the current frame\u001B[39;00m\n\u001B[0;32m     27\u001B[0m \u001B[38;5;28;01mif\u001B[39;00m success:\n\u001B[1;32m---> 28\u001B[0m     \u001B[43mcv2\u001B[49m\u001B[38;5;241;43m.\u001B[39;49m\u001B[43mimwrite\u001B[49m\u001B[43m(\u001B[49m\u001B[43mfile_path\u001B[49m\u001B[43m,\u001B[49m\u001B[43m \u001B[49m\u001B[43mimage\u001B[49m\u001B[43m)\u001B[49m\n\u001B[0;32m     30\u001B[0m \u001B[38;5;66;03m# Read the next frame\u001B[39;00m\n\u001B[0;32m     31\u001B[0m success, image \u001B[38;5;241m=\u001B[39m vidcap\u001B[38;5;241m.\u001B[39mread()\n",
      "\u001B[1;31mKeyboardInterrupt\u001B[0m: "
     ]
    }
   ],
   "source": [
    "import cv2\n",
    "import os\n",
    "\n",
    "# Path to save the frames\n",
    "folder_path = r'C:\\Users\\civig\\Desktop\\hackathon24\\YOLOCC\\video1-frames'\n",
    "\n",
    "# Create the folder if it doesn't exist\n",
    "if not os.path.exists(folder_path):\n",
    "    os.makedirs(folder_path)\n",
    "\n",
    "# Open the video file\n",
    "vidcap = cv2.VideoCapture('20240904_165241_2.mp4')\n",
    "\n",
    "# Check if the video was opened successfully\n",
    "if not vidcap.isOpened():\n",
    "    print(\"Error: Could not open video file.\")\n",
    "    exit()\n",
    "\n",
    "success, image = vidcap.read()  # Read the first frame\n",
    "count = 0\n",
    "\n",
    "# Loop through the video frames\n",
    "while success:\n",
    "    file_path = os.path.join(folder_path, \"frame%d.jpg\" % count)\n",
    "\n",
    "    # Save the current frame\n",
    "    if success:\n",
    "        cv2.imwrite(file_path, image)\n",
    "\n",
    "    # Read the next frame\n",
    "    success, image = vidcap.read()\n",
    "\n",
    "    # Check for exit condition\n",
    "    if cv2.waitKey(10) == 27:  # Press ESC to stop\n",
    "        break\n",
    "\n",
    "    count += 1\n",
    "\n",
    "# Release the video capture object\n",
    "vidcap.release()\n",
    "cv2.destroyAllWindows()\n",
    "\n",
    "print(f\"Saved {count} frames in {folder_path}\")"
   ]
  },
  {
   "cell_type": "code",
   "execution_count": null,
   "id": "918d0c26-15b6-4b5a-9bc1-52691e585c40",
   "metadata": {
    "ExecuteTime": {
     "end_time": "2024-09-06T10:27:47.755711Z",
     "start_time": "2024-09-06T10:27:47.754537Z"
    }
   },
   "outputs": [],
   "source": []
  }
 ],
 "metadata": {
  "kernelspec": {
   "display_name": "Python 3 (ipykernel)",
   "language": "python",
   "name": "python3"
  },
  "language_info": {
   "codemirror_mode": {
    "name": "ipython",
    "version": 3
   },
   "file_extension": ".py",
   "mimetype": "text/x-python",
   "name": "python",
   "nbconvert_exporter": "python",
   "pygments_lexer": "ipython3",
   "version": "3.11.1"
  }
 },
 "nbformat": 4,
 "nbformat_minor": 5
}
